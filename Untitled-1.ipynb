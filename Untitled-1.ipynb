{
 "cells": [
  {
   "cell_type": "code",
   "execution_count": 4,
   "id": "21632414",
   "metadata": {},
   "outputs": [
    {
     "name": "stdout",
     "output_type": "stream",
     "text": [
      "Notebook CWD: /Users/christinei.sotoza/Desktop/imagetoinsights\n",
      "Contents: ['.DS_Store', 'requirements.txt', 'bank-statements', 'yolov8n.pt', 'yolov8s.pt', '.gitignore', '.gitattributes', 'venv', '.git', 'runs']\n",
      "bank-statements exists?: True\n"
     ]
    }
   ],
   "source": [
    "import os\n",
    "print(\"Notebook CWD:\", os.getcwd())\n",
    "print(\"Contents:\", os.listdir(os.getcwd()))\n",
    "# If your bank-statements folder is elsewhere, adjust the path below\n",
    "print(\"bank-statements exists?:\", os.path.isdir(\"bank-statements\"))\n"
   ]
  },
  {
   "cell_type": "code",
   "execution_count": 1,
   "id": "faeca818",
   "metadata": {},
   "outputs": [
    {
     "name": "stdout",
     "output_type": "stream",
     "text": [
      "\n",
      "image 1/5 /Users/christinei.sotoza/Desktop/imagetoinsights/bank-statements/bs1.png: 640x480 (no detections), 147.7ms\n",
      "image 2/5 /Users/christinei.sotoza/Desktop/imagetoinsights/bank-statements/bs2.png: 640x512 (no detections), 134.1ms\n",
      "image 3/5 /Users/christinei.sotoza/Desktop/imagetoinsights/bank-statements/bs3.png: 640x512 1 laptop, 110.3ms\n",
      "image 4/5 /Users/christinei.sotoza/Desktop/imagetoinsights/bank-statements/bs4.png: 640x480 1 laptop, 143.8ms\n",
      "image 5/5 /Users/christinei.sotoza/Desktop/imagetoinsights/bank-statements/labeled.png: 640x480 (no detections), 88.1ms\n",
      "Speed: 2.2ms preprocess, 124.8ms inference, 2.0ms postprocess per image at shape (1, 3, 640, 480)\n",
      "Results saved to \u001b[1mruns/detect/bank_statements_vscode2\u001b[0m\n"
     ]
    }
   ],
   "source": [
    "from ultralytics import YOLO\n",
    "\n",
    "model = YOLO('yolov8s.pt')\n",
    "\n",
    "results = model.predict(\n",
    "    source='bank-statements',   # relative path to that folder\n",
    "    conf=0.25,\n",
    "    save=True,\n",
    "    project='runs/detect',\n",
    "    name='bank_statements_vscode'\n",
    ")\n",
    "\n",
    "# Show the first annotated result inline\n",
    "results[0].show()\n"
   ]
  },
  {
   "cell_type": "code",
   "execution_count": 3,
   "id": "250e7999",
   "metadata": {},
   "outputs": [
    {
     "name": "stdout",
     "output_type": "stream",
     "text": [
      "✅ Download complete: dataset.zip\n"
     ]
    }
   ],
   "source": [
    "import os\n",
    "import requests\n",
    "\n",
    "# 1. Load key (don’t hard-code in shared notebooks!)\n",
    "api_key   = os.getenv(\"Ga7myvrGzYYKgKnVCbvY\")   # set this env var beforehand\n",
    "workspace = \"my-workspace\"                  # your workspace slug\n",
    "project   = \"my-project\"                    # your project slug\n",
    "version   = 1                                # the version number you want\n",
    "fmt       = \"yolov8\"                         # could be \"coco\", \"voc\", etc.\n",
    "\n",
    "# 2. Build the download URL\n",
    "url = (\n",
    "    f\"https://api.roboflow.com/dataset/download/\"\n",
    "    f\"{workspace}/{project}/{version}\"\n",
    "    f\"?format={fmt}&api_key={api_key}\"\n",
    ")\n",
    "\n",
    "# 3. Fetch + save\n",
    "resp = requests.get(url)\n",
    "resp.raise_for_status()                     # will raise if something went wrong\n",
    "with open(\"dataset.zip\", \"wb\") as f:\n",
    "    f.write(resp.content)\n",
    "\n",
    "print(\"✅ Download complete: dataset.zip\")\n"
   ]
  }
 ],
 "metadata": {
  "kernelspec": {
   "display_name": "venv",
   "language": "python",
   "name": "python3"
  },
  "language_info": {
   "codemirror_mode": {
    "name": "ipython",
    "version": 3
   },
   "file_extension": ".py",
   "mimetype": "text/x-python",
   "name": "python",
   "nbconvert_exporter": "python",
   "pygments_lexer": "ipython3",
   "version": "3.12.1"
  }
 },
 "nbformat": 4,
 "nbformat_minor": 5
}
